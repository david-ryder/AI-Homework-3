{
  "cells": [
    {
      "cell_type": "markdown",
      "metadata": {
        "id": "lzo37yE6ejuA"
      },
      "source": [
        "# Convolution Neural Network Homework\n",
        "\n",
        "This is the 3rd homework assignment for CAP 4630 and we will go through some primary operations for image processsing and implement one of the earilest representative convolution neural network - LeNet-5 . \\\n",
        "You will use **\"Tasks\"** and **\"Hints\"** to finish the work. **(Total 100 Points)** \\\n",
        "For section 1, when you implement covolution and maxpooling, you are **not** allowed to use built-in functions in Machine Learning libaries such as Scikit-learn Keras, Tensorflow, Pytorch; but you are encouraged to employ Keras for second section.\n",
        "\n",
        "**Task Overview:**\n",
        "- Basic operations for Digital Image Processing (DIP)\n",
        "- LeNet-5 (Google Colab is recommended for implementation)"
      ]
    },
    {
      "cell_type": "markdown",
      "metadata": {
        "id": "gLKjpQvaejuF"
      },
      "source": [
        "## 1 - Basic Image Processing ##\n",
        "### 1.1 Data Preparation \n",
        "\n",
        "Import packages and prepare image data as an array for image processing. **(5 Points)**\n",
        "\n",
        "**Tasks:**\n",
        "1. Import numpy and rename it to np.\n",
        "2. Import imageio and call imread to convert image to an array.\n",
        "3. **DISPLAY** the image in the output box before image-array conversion.\n",
        "4. **PRINT OUT** the size of the array\n",
        "5. **PRINT OUT** the numeric matrix form of image, i.e. the obtained array after image-array conversion.\n",
        "\n",
        "References:\n",
        "- [numpy](www.numpy.org) is the fundamental package for scientific computing with Python.\n",
        "- [imageio](https://imageio.github.io/) is a python library for basic image reading and writing.\n",
        "\n",
        "**Hints:**\n",
        "1. Image data is under current directory, i.e., \"./image.jpg\".\n",
        "2. You may consider importing \"display\" and \"Image\" from IPython.display for image display."
      ]
    },
    {
      "cell_type": "code",
      "execution_count": 62,
      "metadata": {
        "id": "qvITLRocejuG"
      },
      "outputs": [
        {
          "data": {
            "image/jpeg": "[encoded data removed]",
            "text/plain": [
              "<IPython.core.display.Image object>"
            ]
          },
          "metadata": {},
          "output_type": "display_data"
        },
        {
          "name": "stdout",
          "output_type": "stream",
          "text": [
            "(30, 30)\n",
            "[[ 98  89  78 112  90  93 158 112 122 117 107 121  90  75  67  93  73  67\n",
            "   96 152 167 151 166 154 134 105  53  51  55  44]\n",
            " [ 34  31  51  38  16  50 195 161 138 173 200 209 194 206 222 237 223 195\n",
            "  177 185 167 160 166 169 136  98  49  54  55  35]\n",
            " [ 78  84  94  71  81  69 190 204 233 240 249 234 232 241 250 235 235 236\n",
            "  224 194 169 181 170 162 121  95  55  49  52  47]\n",
            " [ 79  58  90 127 103 137 253 244 254 222 223 219 235 228 232 206 201 215\n",
            "  201 106 105 137 169 173 124  81  45  49  59  53]\n",
            " [ 31  75  44  81  89 191 242 255 228 208 231 233 236 222 227 199 177 192\n",
            "  208 104 137 109 170 194 159  88  44  54  63  46]\n",
            " [ 85  66  51 145 129 225 239 206 242 233 247 231 210 218 232 202 190 173\n",
            "  181  95 146  39 132 199 178 145 103  53  44  65]\n",
            " [ 81  60  76 178 216 214 209 230 240 229 230 211 157 176 214 218 185 186\n",
            "  198 154 203  33 100 157 157 179 162  72  39  78]\n",
            " [104  89 152 176 168 117 182 226 242 235 238 207  82  50  94 145 136 157\n",
            "  148 119 175  30 111 165 136 155 168 110  60  56]\n",
            " [ 95  39 181 160  91  13 180 237 240 242 221 102  24   7  19  12  38  95\n",
            "  101 142 155  30  89  91 107 145 161 113  60  53]\n",
            " [ 18  54 186 144 147  99 248 238 235 227 210 115  62  57  74  72  85  82\n",
            "   91 182  83  56  68  59 129 113 133 129 116  67]\n",
            " [ 84  79 201 132 185 229 217 206 210 188 188 155 160 169 164 141 111  70\n",
            "  126 154  49  40  69  73 104  85 120 132 158 125]\n",
            " [201 161 135 153 174 219 204 197 209 178 177 146 138 124 114 101  90  85\n",
            "  144 105  81  53  83 104  74  80 122 141 152 133]\n",
            " [162 150 147 212 176 180 190 187 161 107 114 140 191 178 114  49  74 117\n",
            "  112 118  99 114  93  98  96  90 104 139 102  67]\n",
            " [184 138 167 132  90 118 183 214 193 150 148 132 137 130 135 141  96 127\n",
            "  108 140  75 111 113  96 115 101  75  89  42  43]\n",
            " [172 127 105  83  61  34 134 149 188 134 119  97 106 106 115 120 109 107\n",
            "  123 139  70  77 110 103 102  91  67  68  42  61]\n",
            " [139  39  59  55  36  15  27 128 189 123  98  79 100 105 105  97  95  86\n",
            "  105 148  94  95  78  92  93  67  78 110  94  51]\n",
            " [162  27  19  24   2  34  19 104 153  91  88  71 100 151 122 118  98  96\n",
            "   92 143 136  86  92  79  83  64  35  31  61  87]\n",
            " [186 114  41  35  15  20  37  75 101  92  91  86 122 172 147  97  85  96\n",
            "   86 104  88  61  80  64  68  65  37  12  21  38]\n",
            " [183 164  24  17  41  42  75  49  67  80  74  86  98 104 116  99  81 101\n",
            "   90  94  97 116 149 125  69  83  64  30  28  42]\n",
            " [172 207  94  39  34  18  50  52  82  95  92  99  97  86 104 120  82  88\n",
            "   69  66  82 112 126  84  52  66  53  25  20  26]\n",
            " [159 164 106  37  51  56  38  56  62  87 101  90 108 125  99  84  94  90\n",
            "   78  79  86  97  89  48  79  77  59  41  34  27]\n",
            " [179 181 191 103  67  52  28  77  92 109 121 113 129 129  93  93  65  66\n",
            "   77  86  83  79  71  52  55  46  30  24  26  19]\n",
            " [198 178 191 158 154 149 142 139 144 144 109 102 103  73  72  98  89  84\n",
            "   94  92  76  65  51  40  19  21  12   9  19  25]\n",
            " [173 168 176 182 184 172 208 171 198 207 118  91 101  88 107  93 109  92\n",
            "   87  72  55  47  26   6   9  21  14   1   9  19]\n",
            " [180 180 176 177 187 189 165 134 130 188 137 113  70 107  79  61  81  61\n",
            "   47  49  48  30  10   0   4   5   5   5   4   7]\n",
            " [176 177 176 178 186 190 183 172 160 151 124 134 109  74  58  64  56  48\n",
            "   42  37  23   8   8  17   9   9  11  14  18  23]\n",
            " [175 174 176 180 181 185 195 207 179 208 217 168 122  92  94  48  52  34\n",
            "   18  14  12  10  14  21  33  28  23  23  26  28]\n",
            " [179 174 177 182 178 175 189 210 216 220 204 246 134 106  65  57  55  34\n",
            "   14   9  15  21  27  32  54  43  31  29  34  36]\n",
            " [183 176 177 185 182 172 179 196 255 153 188 221 225  84  82  51  42  39\n",
            "   33  25  19  23  41  59  49  37  27  31  47  59]\n",
            " [184 177 179 188 186 177 177 186 242 187 172 247 199 148  91  54  40  35\n",
            "   30  29  34  44  55  63  34  24  18  28  51  71]]\n"
          ]
        },
        {
          "name": "stderr",
          "output_type": "stream",
          "text": [
            "C:\\Users\\drw12\\AppData\\Local\\Temp\\ipykernel_23960\\3668959875.py:13: DeprecationWarning: Starting with ImageIO v3 the behavior of this function will switch to that of iio.v3.imread. To keep the current behavior (and make this warning disappear) use `import imageio.v2 as imageio` or call `imageio.v2.imread` directly.\n",
            "  img_matrix = imageio.imread('./image.jpg')\n"
          ]
        }
      ],
      "source": [
        "# Import useful libraries\n",
        "import numpy as np\n",
        "import imageio\n",
        "import matplotlib.pyplot as plt\n",
        "from IPython.display import display, Image\n",
        "import math\n",
        "\n",
        "# Display original image\n",
        "image = Image(filename='./image.jpg')\n",
        "display(image)\n",
        "\n",
        "# # Convert image to array, print out the shape of array, and print out the entire array\n",
        "img_matrix = imageio.imread('./image.jpg')\n",
        "print(img_matrix.shape)\n",
        "print(img_matrix)"
      ]
    },
    {
      "cell_type": "markdown",
      "metadata": {
        "id": "EY5djq-tejuI"
      },
      "source": [
        "### 1.2 Implementation of Convolution Filter\n",
        "\n",
        "Process the obtained array from the image with convolution operation. **(20 Points)**\n",
        "\n",
        "**Tasks:**\n",
        "1. Prepare a 3X3 Laplacian kernel (aka Laplacial filter) with array as convolution filter.\n",
        "2. Conduct convolution on image with prepared kernel.\n",
        "3. **PRINT OUT** convolution result for first ten rows.\n",
        "4. **PRINT OUT** the shape of the convolution result.\n",
        "5. **DISPLAY** convolution result as image with matplotlib. (Don't worry about the value <0 or >255. Scaling process will be conducted in imshow function to make sure valid display.)\n",
        "\n",
        "\n",
        "**Hints:**\n",
        "1. Laplacian kernel is widely used for edge detection. Its form is shown below:\n",
        "\n",
        "\n",
        "![](https://drive.google.com/uc?export=view&id=15bP8KCwHLtglJ-WXV4wolm4m46mCp3HL)\n",
        "\n",
        "2. You may consider the following steps for this implementation.\\\n",
        "    2.1 Extract all centriods of processing region for each convolution operation.\\\n",
        "    2.2 According to each centroid, locate all indices of the elements within the local region for each convolution operation.\\\n",
        "    2.3 Given obtained indices, locate pixel values (i.e. our obtained array elements) and conduct element-wise product between pixel and kernel values.\\\n",
        "    2.4 Sum element-wise product results and assign the value to convolution result at corresponding location.\\\n",
        "    **Note: we did not conduct padding for processed array, and thus, convolution result will become smaller than original array. You may think about the reason.**\n",
        "3. Validation for first 5X5 array (from upper-left corner), i.e., filtered_results[0:5,0:5]. The example figure is below.\n",
        "\n",
        "[[ 134.   37.   98.  195.  173.]\\\n",
        " [ -75.  -80.   56.  -65.  182.]\\\n",
        " [  96.  -37. -163.   22.   68.]\\\n",
        " [-101.  121.   81.  148.  -71.]\\\n",
        " [   7.  127. -141.  159. -127.]]\n",
        "\n",
        "![](https://drive.google.com/uc?export=view&id=18Iis1mJsvEaojZ7O3f3soE152Szwy8_Z)\n",
        "\n",
        "\n",
        " "
      ]
    },
    {
      "cell_type": "code",
      "execution_count": 63,
      "metadata": {
        "id": "cnc8BNW9ejuJ"
      },
      "outputs": [
        {
          "name": "stdout",
          "output_type": "stream",
          "text": [
            "[[ 134.   37.   98.  195.  173. -221.    5.  137.    3.  -62.  -87.  -39.\n",
            "   -92. -128. -175. -152.  -77.   -8.  -50.   13.   25.    1.  -58.  -22.\n",
            "    -7.   64.  -12.  -24.]\n",
            " [ -75.  -80.   56.  -65.  182.  -39.   12.  -96.  -83.  -99.  -27.  -24.\n",
            "   -48.  -70.  -12.  -45.  -75.  -88.  -92.  -29.  -88.   -2.  -15.   33.\n",
            "   -25.   18.   14.    2.]\n",
            " [  96.  -37. -163.   22.   68. -199.  -10.  -89.   37.   29.   49.  -25.\n",
            "    18.  -17.   43.   29.  -30.  -51.  180.  129.   16.  -26.  -43.   38.\n",
            "    28.   49.   11.  -19.]\n",
            " [-101.  121.   81.  148.  -71.  -30. -100.   47.   82.  -13.  -15.  -44.\n",
            "    21.  -23.   16.   74.    5. -154.  130.  -84.   47.  -76.  -75.  -52.\n",
            "    77.  114.   -7.  -49.]\n",
            " [   7.  127. -141.  159. -127.  -74.  142.  -61.   -6.  -63.  -23.    2.\n",
            "   -32.  -67.   31.  -23.   57.  -50.  205. -110.  264.  -20. -135.  -52.\n",
            "   -32.   -8.   61.   44.]\n",
            " [  72.  137.  -99. -175.  -89.   29.  -39.  -17.   22.    5.  -19.   51.\n",
            "   -65. -136. -126.  -10.  -31. -123.   -1. -304.  240.   33.   -7.   22.\n",
            "   -97. -126.   76.   98.]\n",
            " [  -1.  -86.  -46.  -72.  109.    4.  -13.  -27.   11.  -59. -195.  110.\n",
            "   159.   52. -120.  -19.  -63.  -17.  143. -193.  229.  -60. -165.   40.\n",
            "     8.  -84.  -27.   25.]\n",
            " [ 263. -187.  -48.  124.  435.  -40.  -64.   -4.  -45.  -92.  159.  157.\n",
            "   122.  111.  226.  176.   -2.   72.  -11. -190.  210.  -56.   56.   73.\n",
            "   -44.  -85.    8.  102.]\n",
            " [ 106. -164.   49.  -69.  241. -258.  -26.  -25.  -33.  -89.   69.  108.\n",
            "    84.   16.   24.  -37.   13.  127. -258.  110.   -3.    1.  125. -133.\n",
            "    40.   -9.  -22.  -50.]\n",
            " [ 184. -272.  155.  -58. -196.   19.   38.   -2.   51.  -22.  -11. -116.\n",
            "  -171. -158. -116.  -58.  124.  -45. -154.  162.   67.  -12.   44.  -55.\n",
            "    77.   -8.   20. -107.]]\n",
            "(28, 28)\n"
          ]
        },
        {
          "data": {
            "text/plain": [
              "<matplotlib.image.AxesImage at 0x20feedc9de0>"
            ]
          },
          "execution_count": 63,
          "metadata": {},
          "output_type": "execute_result"
        },
        {
          "data": {
            "image/png": "[encoded data removed]",
            "text/plain": [
              "<Figure size 640x480 with 1 Axes>"
            ]
          },
          "metadata": {},
          "output_type": "display_data"
        }
      ],
      "source": [
        "######## Convolution with Laplacian Filter ##################\n",
        "l_filter = np.array([\n",
        "    [0, 1, 0], \n",
        "    [1, -4, 1], \n",
        "    [0, 1, 0]\n",
        "])\n",
        "\n",
        "def calculate_target_size(img_size: int, kernel_size: int) -> int:\n",
        "    num_pixels = 0\n",
        "    \n",
        "    # From 0 up to img size (if img size = 224, then up to 223)\n",
        "    for i in range(img_size):\n",
        "        # Add the kernel size (let's say 3) to the current i\n",
        "        added = i + kernel_size\n",
        "        # It must be lower than the image size\n",
        "        if added <= img_size:\n",
        "            # Increment if so\n",
        "            num_pixels += 1\n",
        "            \n",
        "    return num_pixels\n",
        "\n",
        "def convolve(img: np.array, kernel: np.array) -> np.array:\n",
        "    # Assuming a rectangular image\n",
        "    tgt_size = calculate_target_size(\n",
        "        img_size=img.shape[0],\n",
        "        kernel_size=kernel.shape[0]\n",
        "    )\n",
        "    # To simplify things\n",
        "    k = kernel.shape[0]\n",
        "    \n",
        "    # 2D array of zeros\n",
        "    convolved_img = np.zeros(shape=(tgt_size, tgt_size))\n",
        "    \n",
        "    # Iterate over the rows\n",
        "    for i in range(tgt_size):\n",
        "        # Iterate over the columns\n",
        "        for j in range(tgt_size):\n",
        "            # img[i, j] = individual pixel value\n",
        "            # Get the current matrix\n",
        "            mat = img[i:i+k, j:j+k]\n",
        "            \n",
        "            # Apply the convolution - element-wise multiplication and summation of the result\n",
        "            # Store the result to i-th row and j-th column of our convolved_img array\n",
        "            convolved_img[i, j] = np.sum(np.multiply(mat, kernel))\n",
        "            \n",
        "    return convolved_img\n",
        "\n",
        "img_convolved = convolve(img=np.array(img_matrix), kernel=l_filter)\n",
        "\n",
        "print(img_convolved[:10])\n",
        "\n",
        "print(img_convolved.shape)\n",
        "\n",
        "plt.imshow(img_convolved)"
      ]
    },
    {
      "cell_type": "markdown",
      "metadata": {
        "id": "DMN_XE1xejuJ"
      },
      "source": [
        "### 1.3 Modification on Convolution Scheme\n",
        "\n",
        "Conduct the convolution with the same filter as above, but change the stride to 2. **(5 Points)**\n",
        "\n",
        "**Tasks:**\n",
        "1. Modify the convolution process with stride=2\n",
        "2. **PRINT OUT** convolution result for first ten rows.\n",
        "3. **PRINT OUT** the shape of the convolution result.\n",
        "4. **DISPLAY** convolution result as image with matplotlib.(Don't worry about the value <0 or >255. Scaling process will be conducted in imshow function to make sure valid display.)\n",
        "\n",
        "**Hints:**\n",
        "1. You may just reduce the centroid pool according to stride=2, and then, follow the same convolution process above.\n",
        "    **Note: After increase of stride, the size of convolution result is further shrinked. You may think about the reason.**\n",
        "2. Validation for first 5X5 array (from upper-left corner), i.e., filtered_results[0:5,0:5]. The example figure is below.\n",
        "\n",
        "[[ 134.   98.  173.    5.    3.]\\\n",
        " [  96. -163.   68.  -10.   37.]\\\n",
        " [   7. -141. -127.  142.   -6.]\\\n",
        " [  -1.  -46.  109.  -13.   11.]\\\n",
        " [ 106.   49.  241.  -26.  -33.]]\n",
        " \n",
        " \n",
        "![](https://drive.google.com/uc?export=view&id=1UPdXt5cY1umImu2chaQLfWAnqDEpFOGV)\n"
      ]
    },
    {
      "cell_type": "code",
      "execution_count": 69,
      "metadata": {
        "id": "pyFLwZxYejuJ"
      },
      "outputs": [
        {
          "ename": "TypeError",
          "evalue": "'float' object cannot be interpreted as an integer",
          "output_type": "error",
          "traceback": [
            "\u001b[1;31m---------------------------------------------------------------------------\u001b[0m",
            "\u001b[1;31mTypeError\u001b[0m                                 Traceback (most recent call last)",
            "Cell \u001b[1;32mIn [69], line 29\u001b[0m\n\u001b[0;32m     25\u001b[0m             convolved_img[i, j] \u001b[39m=\u001b[39m np\u001b[39m.\u001b[39msum(np\u001b[39m.\u001b[39mmultiply(mat, kernel))\n\u001b[0;32m     27\u001b[0m     \u001b[39mreturn\u001b[39;00m convolved_img\n\u001b[1;32m---> 29\u001b[0m img_convolved2 \u001b[39m=\u001b[39m convolve_n(img\u001b[39m=\u001b[39mnp\u001b[39m.\u001b[39marray(img_matrix), kernel\u001b[39m=\u001b[39ml_filter, n\u001b[39m=\u001b[39m\u001b[39m2\u001b[39m)\n\u001b[0;32m     31\u001b[0m \u001b[39mprint\u001b[39m(img_convolved2[:\u001b[39m10\u001b[39m])\n\u001b[0;32m     33\u001b[0m \u001b[39mprint\u001b[39m(img_convolved2\u001b[39m.\u001b[39mshape)\n",
            "Cell \u001b[1;32mIn [69], line 16\u001b[0m, in \u001b[0;36mconvolve_n\u001b[1;34m(img, kernel, n)\u001b[0m\n\u001b[0;32m     13\u001b[0m convolved_img \u001b[39m=\u001b[39m np\u001b[39m.\u001b[39mzeros(shape\u001b[39m=\u001b[39m(tgt_size, tgt_size))\n\u001b[0;32m     15\u001b[0m \u001b[39m# Iterate over the rows\u001b[39;00m\n\u001b[1;32m---> 16\u001b[0m \u001b[39mfor\u001b[39;00m i \u001b[39min\u001b[39;00m \u001b[39mrange\u001b[39;49m(\u001b[39m0\u001b[39;49m, tgt_size \u001b[39m/\u001b[39;49m n, n):\n\u001b[0;32m     17\u001b[0m     \u001b[39m# Iterate over the columns\u001b[39;00m\n\u001b[0;32m     18\u001b[0m     \u001b[39mfor\u001b[39;00m j \u001b[39min\u001b[39;00m \u001b[39mrange\u001b[39m(\u001b[39m0\u001b[39m, tgt_size \u001b[39m/\u001b[39m n, n):\n\u001b[0;32m     19\u001b[0m         \u001b[39m# img[i, j] = individual pixel value\u001b[39;00m\n\u001b[0;32m     20\u001b[0m         \u001b[39m# Get the current matrix\u001b[39;00m\n\u001b[0;32m     21\u001b[0m         mat \u001b[39m=\u001b[39m img[i:i\u001b[39m+\u001b[39mk, j:j\u001b[39m+\u001b[39mk]\n",
            "\u001b[1;31mTypeError\u001b[0m: 'float' object cannot be interpreted as an integer"
          ]
        }
      ],
      "source": [
        "######## Convolution with Laplacian Filter and the setting of stride=2 ##################\n",
        "\n",
        "def convolve_n(img: np.array, kernel: np.array, n) -> np.array:\n",
        "    # Assuming a rectangular image\n",
        "    tgt_size = calculate_target_size(\n",
        "        img_size=img.shape[0],\n",
        "        kernel_size=kernel.shape[0]\n",
        "    )\n",
        "    # To simplify things\n",
        "    k = kernel.shape[0]\n",
        "    \n",
        "    # 2D array of zeros\n",
        "    convolved_img = np.zeros(shape=(tgt_size, tgt_size))\n",
        "    \n",
        "    # Iterate over the rows\n",
        "    for i in range(0, tgt_size, n):\n",
        "        # Iterate over the columns\n",
        "        for j in range(0, tgt_size, n):\n",
        "            # img[i, j] = individual pixel value\n",
        "            # Get the current matrix\n",
        "            mat = img[i:i+k, j:j+k]\n",
        "            \n",
        "            # Apply the convolution - element-wise multiplication and summation of the result\n",
        "            # Store the result to i-th row and j-th column of our convolved_img array\n",
        "            convolved_img[i, j] = np.sum(np.multiply(mat, kernel))\n",
        "            \n",
        "    return convolved_img\n",
        "\n",
        "img_convolved2 = convolve_n(img=np.array(img_matrix), kernel=l_filter, n=2)\n",
        "\n",
        "print(img_convolved2[:10])\n",
        "\n",
        "print(img_convolved2.shape)\n",
        "\n",
        "plt.imshow(img_convolved2)"
      ]
    },
    {
      "cell_type": "markdown",
      "metadata": {
        "id": "l2PT6NpSejuL"
      },
      "source": [
        "### 1.4 Implementation of MaxPooling\n",
        "\n",
        "Process the obtained array from the image with MaxPooling operation. **(15 Points)**\n",
        "\n",
        "**Tasks:**\n",
        "1. Prepare a 2X2 pooling mask.\n",
        "2. Conduct max pooing on image with prepared mask.\n",
        "3. **PRINT OUT** convolution result for first ten rows.\n",
        "4. **PRINT OUT** the shape of the convolution result.\n",
        "5. **DISPLAY** convolution result as image with matplotlib.(Don't worry about the value <0 or >255. Scaling process will be conducted in imshow function to make sure valid display.)\n",
        "\n",
        "**Hints:**\n",
        "1. You may just modify the centroid pool to top-left corner pool, and then, follow the same strategy above.\\\n",
        "    **Note: After the pooling, the size of the array is shrinked. You may think about the reason.**\n",
        "2. Validation for first 5X5 array (from upper-left corner), i.e., pooled_results[0:5,0:5].The example figure is below.\n",
        "\n",
        "[[ 98. 112.  93. 195. 173.]\\\n",
        " [ 84. 127. 137. 253. 254.]\\\n",
        " [ 85. 145. 225. 255. 242.]\\\n",
        " [104. 178. 216. 230. 242.]\\\n",
        " [ 95. 186. 147. 248. 242.]]\n",
        "\n",
        "![](https://drive.google.com/uc?export=view&id=1a18IWjrN0xHcp7bSNuj8kUM4JFFj3ebd)\n",
        "\n"
      ]
    },
    {
      "cell_type": "code",
      "execution_count": null,
      "metadata": {
        "id": "JOV72Sp9ejuL"
      },
      "outputs": [],
      "source": [
        "######## MaxPooling with the setting of 2X2 ##################\n",
        "\n"
      ]
    },
    {
      "cell_type": "markdown",
      "metadata": {
        "id": "tCxlJYlqejuM"
      },
      "source": [
        "## 2 - Convolution Neural Network ##\n",
        " \n",
        "In this section, we will use LeNet-5 (LeCun et al., 1998), one of representative deep nueral networks, to solve a  classification problem with Fashion MNIST benchmark.\n",
        "\n",
        "### 2.1 Library Preparation\n",
        "\n",
        "Import useful deep learning packages. \n",
        "\n",
        "**Tasks:**\n",
        "1. Import numpy and rename it to np.\n",
        "2. Import keras from tensorflow.\n",
        "3. Import layers from tensorflow.keras\n"
      ]
    },
    {
      "cell_type": "code",
      "execution_count": null,
      "metadata": {
        "id": "e5enuEKHejuM"
      },
      "outputs": [
        {
          "ename": "ModuleNotFoundError",
          "evalue": "No module named 'tensorflow'",
          "output_type": "error",
          "traceback": [
            "\u001b[1;31m---------------------------------------------------------------------------\u001b[0m",
            "\u001b[1;31mModuleNotFoundError\u001b[0m                       Traceback (most recent call last)",
            "Cell \u001b[1;32mIn [38], line 2\u001b[0m\n\u001b[0;32m      1\u001b[0m \u001b[39mimport\u001b[39;00m \u001b[39mnumpy\u001b[39;00m \u001b[39mas\u001b[39;00m \u001b[39mnp\u001b[39;00m\n\u001b[1;32m----> 2\u001b[0m \u001b[39mfrom\u001b[39;00m \u001b[39mtensorflow\u001b[39;00m \u001b[39mimport\u001b[39;00m keras\n\u001b[0;32m      3\u001b[0m \u001b[39mfrom\u001b[39;00m \u001b[39mtensorflow\u001b[39;00m\u001b[39m.\u001b[39;00m\u001b[39mkeras\u001b[39;00m \u001b[39mimport\u001b[39;00m layers\n",
            "\u001b[1;31mModuleNotFoundError\u001b[0m: No module named 'tensorflow'"
          ]
        }
      ],
      "source": [
        "import numpy as np\n",
        "from tensorflow import keras\n",
        "from tensorflow.keras import layers\n",
        "\n"
      ]
    },
    {
      "cell_type": "markdown",
      "metadata": {
        "id": "BUs3cBXXejuN"
      },
      "source": [
        "### 2.2 Training Data Preparation\n",
        "\n",
        "Import useful packages and prepare Fashion MNIST data. **(20 Points)**\n",
        "\n",
        "**Tasks:**\n",
        "1. Download Fashion MNIST data and split it with keras and prepare training/test data sets.\n",
        "2. Preprocess training/test data with normalization, dimension extension, and zero padding (for LeNet-5 configuration).\n",
        "3. Preprocess label data to binary class matrices.\n",
        "4. **PRINT OUT** first image in training set and its correponding label index\n",
        "5. **PRINT OUT** the shape of total training data, the number of training samples, and the number of test samples.\n",
        "\n",
        "**Hints**\n",
        "1. You may consider load function from the reference link. https://keras.io/api/datasets/ It provides dataloader function which can tackle downloading and data splitting automatically.\n",
        "2. For label preprocessing, you may consider **keras.utils.to_categorical** to convert class vectors to binary class matrices. This conversion makes sure the label can match the format of prediction output from neural network.\n",
        "3. For image display, consider showing the image and label **before dimension expansion and label preprocessing**.\n",
        "4. You may consider MNIST processing shown in class as an example.\n",
        "\n",
        "**References**\n",
        "- Fashion MNIST https://github.com/zalandoresearch/fashion-mnist\n"
      ]
    },
    {
      "cell_type": "code",
      "execution_count": null,
      "metadata": {
        "id": "DjyfYiGrejuN"
      },
      "outputs": [],
      "source": [
        "# # the data, split between train and test sets with keras.datasets\n",
        "\n",
        "# Model / data parameters\n",
        "# num_classes = ...\n",
        "# input_shape = (32, 32, 1) ## think about the reason\n",
        "\n",
        "# # Image Normalization (Scaling to [0, 1])\n",
        "# x_train = ... \n",
        "# x_test = ... \n",
        "\n",
        "# Print out first image and its correponding label index\n",
        "\n",
        "# # Dimension expansion to ensure that images have shape (28, 28, 1)\n",
        "# x_train = ...\n",
        "# x_test = ...\n",
        "\n",
        "# # Conduct padding on training/test images to (32, 32, 1) for LeNet-5\n",
        "# x_train = np.pad(x_train, ((0,0),(2,2),(2,2),(0,0)), 'constant')\n",
        "# x_test = np.pad(x_test, ((0,0),(2,2),(2,2),(0,0)), 'constant')\n",
        "\n",
        "# # Print out the training/test data shapes and the numbers of training/test samples\n",
        "# print(\"x_train shape:\", x_train.shape)\n",
        "# print(x_train.shape[0], \"train samples\")\n",
        "# print(x_test.shape[0], \"test samples\")\n",
        "\n",
        "# # convert label vectors to binary class matrices for training/test labels \n",
        "# y_train = keras.utils.to_categorical(y_train, num_classes)\n",
        "# y_test = keras.utils.to_categorical(y_test, num_classes)"
      ]
    },
    {
      "cell_type": "markdown",
      "metadata": {
        "id": "sw4GqzZmejuN"
      },
      "source": [
        "### 2.3 LeNet-5 \n",
        "\n",
        "Construct LeNet-5 as learning model for Fashion MNIST classification task. **(15 Points)**\n",
        "\n",
        "**Tasks:**\n",
        "1. Build up LeNet-5 with keras.Sequential\n",
        "2. Set the regularizer to l2 and regularizer lambda is **4e-5**.\n",
        "2. **PRINT OUT** the model summary.\n",
        "\n",
        "**Hints:**\n",
        "1. You may consider the convolution neural network shown in class as an example.\n",
        "2. The structure of LeNet-5 is listed below. Try to map each step to related processing operation. You can also search some materials to faciliate implementation. \n",
        "3. Some architecture settings are listed below. \n",
        "    - The kernel size for 2D convolution filter is **5 X 5**. You may think about the reason by calculation.\n",
        "    - Regularizer is set to L2 regularizer with **kernel_regularizer=regularizers.l2(4e-5)**.\n",
        "    - We change tanh activation to **\"relu\"** activation here. Please use **activation=\"relu\"** for implementation.\n",
        "    - We use MaxPooling instead of original AveragePooling. Please use \"**MaxPooling2D(pool_size=(2, 2))**\" for implementation.\n",
        "    - Please use **Flatten** to onvert 2D convolution layer to 1D fully connected layer.\n",
        "    - Gaussian connections are replaced with Softmax, and thus, the outputs are activated by Softmax function based on the number of classes.\n",
        "\n",
        "4. Validation result:\n",
        "    - Total params: 61,706\n",
        "    - Trainable params: 61,706\n",
        "    - Non-trainable params: 0\n",
        "\n",
        "![](https://drive.google.com/uc?export=view&id=1Ks9RasENa0KiYRi2vwfJ_BQxkLB-x49R)\n",
        "\n",
        "\n",
        "**References:**\n",
        "- http://yann.lecun.com/exdb/lenet/\n"
      ]
    },
    {
      "cell_type": "code",
      "execution_count": null,
      "metadata": {
        "id": "c97heiiSejuN"
      },
      "outputs": [],
      "source": [
        "### Construct LeNet-5\n",
        "\n",
        "from tensorflow.keras import regularizers\n",
        "keras.backend.clear_session()\n",
        "\n",
        "# model = keras.Sequential(\n",
        "#     [\n",
        "#         keras.Input(shape=input_shape),\n",
        "#         layers.Conv2D(..., kernel_size=(...), kernel_regularizer=..., activation=...), #C1\n",
        "#         layers.MaxPooling2D(pool_size=(...)), # S2 Subsampling\n",
        "#         layers.Conv2D(..., kernel_size=(...), kernel_regularizer=..., activation=...), # C3\n",
        "#         layers.MaxPooling2D(pool_size=(...)), # S4 Subsampling\n",
        "#         layers.Flatten(), # Convert 2D convolution layer to 1D fully connected layer\n",
        "#         layers.Dense(..., kernel_regularizer=..., activation = ...), # C5\n",
        "#         layers.Dense(..., kernel_regularizer=..., activation = ...), # F6\n",
        "#         layers.Dense(num_classes, activation=...), # OUTPUT\n",
        "#     ]\n",
        "# )\n",
        "\n",
        "# model.summary()"
      ]
    },
    {
      "cell_type": "markdown",
      "metadata": {
        "id": "VmVzUU9oejuO"
      },
      "source": [
        "#### 2.4 LeNet-5 Model Training\n",
        "\n",
        "Train LeNet-5 model with specific training strategy. **(20 Points)**\n",
        "\n",
        "**Tasks:**\n",
        "1. Set batch size to **64** for training. \n",
        "2. Pick **SGD optimizer** with learning rate of **0.1**, momentum of **0.9**, and **nesterov=True**, for model training.\n",
        "3. Pick **cross-entropy** loss function for optimization and evaluation metrics is set to **accuracy**.\n",
        "4. Set validation_split to **0.1** which means it excludes 1/10 training data for validation process.\n",
        "4. Train the model with **10 epochs**.\n",
        "5. Evaluate model with test data set and **PRINT OUT** : **test loss** and **test accuracy**. Note that the model here is the **LAST** model after **10 epochs** training.\n",
        "\n",
        "**Hints:**\n",
        "1. You may consider the examples from Keras to specify optimizer parameters. https://keras.io/api/optimizers/\n",
        "2. You may use the example shown in class to faciliate this implementation.\n",
        "3. You may see slightly different results every time you run the training. It is normal since there is randomness for training. However, you should expect the **BEST** validation accuracy is above **87%** which may not be the result from last epoch."
      ]
    },
    {
      "cell_type": "code",
      "execution_count": null,
      "metadata": {
        "id": "Mz-Cvsu8ejuO"
      },
      "outputs": [],
      "source": [
        "### Train with SGD optimizer with learning rate =0.1, regularizer=4e-5, momentum=0.9, and nesterov=True\n",
        "\n",
        "# batch_size = ...\n",
        "# epochs = ...\n",
        "# sgd = keras.optimizers.SGD(lr=..., momentum=..., nesterov=...)\n",
        "# model.compile(loss=..., optimizer=..., metrics=[...])\n",
        "# history = model.fit(..., ..., batch_size=batch_size, epochs=epochs, validation_split=0.1)\n",
        "\n"
      ]
    },
    {
      "cell_type": "code",
      "execution_count": null,
      "metadata": {
        "id": "Zi-xsLUiejuO"
      },
      "outputs": [],
      "source": [
        "### Print out the evaluation results, including test loss and test accuracy.\n",
        "\n",
        "# score = model.evaluate(..., ..., verbose=0)\n",
        "# print(\"Test loss:\", score[0])\n",
        "# print(\"Test accuracy:\", score[1])\n"
      ]
    }
  ],
  "metadata": {
    "accelerator": "GPU",
    "colab": {
      "collapsed_sections": [],
      "name": "Homework_03.ipynb",
      "provenance": []
    },
    "coursera": {
      "course_slug": "neural-networks-deep-learning",
      "graded_item_id": "XaIWT",
      "launcher_item_id": "zAgPl"
    },
    "kernelspec": {
      "display_name": "Python 3.10.6 64-bit",
      "language": "python",
      "name": "python3"
    },
    "language_info": {
      "codemirror_mode": {
        "name": "ipython",
        "version": 3
      },
      "file_extension": ".py",
      "mimetype": "text/x-python",
      "name": "python",
      "nbconvert_exporter": "python",
      "pygments_lexer": "ipython3",
      "version": "3.10.6"
    },
    "vscode": {
      "interpreter": {
        "hash": "91ccbeda090b25afe2cedac8d83ae6499ff9af9230ed9f00a7676b31a06712fb"
      }
    }
  },
  "nbformat": 4,
  "nbformat_minor": 0
}
